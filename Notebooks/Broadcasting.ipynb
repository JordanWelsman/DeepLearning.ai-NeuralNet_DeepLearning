{
 "cells": [
  {
   "cell_type": "markdown",
   "id": "9bcab1ba",
   "metadata": {},
   "source": [
    "# Broadcasting in Python\n",
    "> Example: Calories from Carbs, Proteins, and Fats in 100g of different foods."
   ]
  },
  {
   "cell_type": "markdown",
   "id": "446ae77c",
   "metadata": {},
   "source": [
    "## Initialising Array"
   ]
  },
  {
   "cell_type": "code",
   "execution_count": 12,
   "id": "06a3f7aa",
   "metadata": {},
   "outputs": [
    {
     "name": "stdout",
     "output_type": "stream",
     "text": [
      "[[ 56.    0.    4.4  68.8]\n",
      " [  1.2 104.   52.    8. ]\n",
      " [  1.  135.   99.    0.9]]\n"
     ]
    },
    {
     "data": {
      "text/plain": [
       "(3, 4)"
      ]
     },
     "execution_count": 12,
     "metadata": {},
     "output_type": "execute_result"
    }
   ],
   "source": [
    "import numpy as np\n",
    "\n",
    "A = np.array([[56.0, 0.0, 4.4, 68.8],\n",
    "              [1.2, 104.0, 52.0, 8.0],\n",
    "              [1.0, 135.0, 99.0, 0.9]])\n",
    "\n",
    "B = np.array([[1], [2], [3]])\n",
    "\n",
    "print(str(A))\n",
    "\n",
    "C = A * B\n",
    "C.shape"
   ]
  },
  {
   "cell_type": "code",
   "execution_count": 31,
   "id": "360aef12",
   "metadata": {},
   "outputs": [
    {
     "data": {
      "text/plain": [
       "(3, 3)"
      ]
     },
     "execution_count": 31,
     "metadata": {},
     "output_type": "execute_result"
    }
   ],
   "source": [
    "a=np.random.randn(1,3) # a.shape=(1,3)\n",
    "b=np.random.randn(3,3) # b.shape=(3,3)\n",
    "c = a * b\n",
    "c.shape"
   ]
  },
  {
   "cell_type": "markdown",
   "id": "0354e19f",
   "metadata": {},
   "source": [
    "## Calculating Total Calories"
   ]
  },
  {
   "cell_type": "code",
   "execution_count": 2,
   "id": "89a52d6b",
   "metadata": {},
   "outputs": [
    {
     "name": "stdout",
     "output_type": "stream",
     "text": [
      "[ 58.2 239.  155.4  77.7]\n"
     ]
    }
   ],
   "source": [
    "cal = A.sum(axis=0)\n",
    "print(str(cal))"
   ]
  },
  {
   "cell_type": "markdown",
   "id": "ad751704",
   "metadata": {},
   "source": [
    "## Calculating Calorie Percentages"
   ]
  },
  {
   "cell_type": "code",
   "execution_count": 3,
   "id": "0dccbfa3",
   "metadata": {},
   "outputs": [
    {
     "name": "stdout",
     "output_type": "stream",
     "text": [
      "[[0.96219931 0.         0.02831403 0.88545689]\n",
      " [0.02061856 0.43514644 0.33462033 0.1029601 ]\n",
      " [0.01718213 0.56485356 0.63706564 0.01158301]]\n"
     ]
    }
   ],
   "source": [
    "percentage = A/cal.reshape(1,4)\n",
    "print(str(percentage))"
   ]
  }
 ],
 "metadata": {
  "kernelspec": {
   "display_name": "Python 3 (ipykernel)",
   "language": "python",
   "name": "python3"
  },
  "language_info": {
   "codemirror_mode": {
    "name": "ipython",
    "version": 3
   },
   "file_extension": ".py",
   "mimetype": "text/x-python",
   "name": "python",
   "nbconvert_exporter": "python",
   "pygments_lexer": "ipython3",
   "version": "3.9.1"
  },
  "toc": {
   "base_numbering": 1,
   "nav_menu": {},
   "number_sections": true,
   "sideBar": true,
   "skip_h1_title": true,
   "title_cell": "Table of Contents",
   "title_sidebar": "Contents",
   "toc_cell": false,
   "toc_position": {},
   "toc_section_display": true,
   "toc_window_display": false
  }
 },
 "nbformat": 4,
 "nbformat_minor": 5
}
