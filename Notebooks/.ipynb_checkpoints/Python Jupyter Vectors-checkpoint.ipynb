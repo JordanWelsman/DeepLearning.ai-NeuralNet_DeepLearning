{
 "cells": [
  {
   "cell_type": "markdown",
   "id": "8670d214",
   "metadata": {},
   "source": [
    "# Python Jupyter Vectors"
   ]
  },
  {
   "cell_type": "markdown",
   "id": "dcb5d2ea",
   "metadata": {},
   "source": [
    "## Generate Random Numbers"
   ]
  },
  {
   "cell_type": "code",
   "execution_count": 6,
   "id": "6c40e531",
   "metadata": {},
   "outputs": [],
   "source": [
    "import numpy as np\n",
    "\n",
    "a = np.random.randn(5)"
   ]
  },
  {
   "cell_type": "code",
   "execution_count": 7,
   "id": "c00779af",
   "metadata": {},
   "outputs": [
    {
     "name": "stdout",
     "output_type": "stream",
     "text": [
      "[ 0.13834919 -0.76225135  2.01571247  0.25299277 -1.91348632]\n"
     ]
    }
   ],
   "source": [
    "print(str(a))"
   ]
  },
  {
   "cell_type": "code",
   "execution_count": 9,
   "id": "ba706330",
   "metadata": {},
   "outputs": [
    {
     "name": "stdout",
     "output_type": "stream",
     "text": [
      "(5,)\n"
     ]
    }
   ],
   "source": [
    "print(a.shape)"
   ]
  },
  {
   "cell_type": "code",
   "execution_count": 11,
   "id": "4d7380c1",
   "metadata": {},
   "outputs": [
    {
     "name": "stdout",
     "output_type": "stream",
     "text": [
      "[ 0.13834919 -0.76225135  2.01571247  0.25299277 -1.91348632]\n"
     ]
    }
   ],
   "source": [
    "print(a.T)"
   ]
  },
  {
   "cell_type": "code",
   "execution_count": 12,
   "id": "fb10d79d",
   "metadata": {},
   "outputs": [
    {
     "name": "stdout",
     "output_type": "stream",
     "text": [
      "8.388699644410707\n"
     ]
    }
   ],
   "source": [
    "print(np.dot(a, a.T))"
   ]
  },
  {
   "cell_type": "code",
   "execution_count": 14,
   "id": "624fcd2b",
   "metadata": {},
   "outputs": [
    {
     "name": "stdout",
     "output_type": "stream",
     "text": [
      "[[-0.39163402]\n",
      " [-0.00763563]\n",
      " [ 2.58833286]\n",
      " [ 0.5486866 ]\n",
      " [ 1.16231368]]\n"
     ]
    }
   ],
   "source": [
    "a = np.random.randn(5,1)\n",
    "print(str(a))"
   ]
  },
  {
   "cell_type": "code",
   "execution_count": 15,
   "id": "a3e67526",
   "metadata": {},
   "outputs": [
    {
     "name": "stdout",
     "output_type": "stream",
     "text": [
      "[[-0.39163402 -0.00763563  2.58833286  0.5486866   1.16231368]]\n"
     ]
    }
   ],
   "source": [
    "print(a.T)"
   ]
  },
  {
   "cell_type": "code",
   "execution_count": 16,
   "id": "629ebe0b",
   "metadata": {},
   "outputs": [
    {
     "name": "stdout",
     "output_type": "stream",
     "text": [
      "[[ 1.53377209e-01  2.99037143e-03 -1.01367922e+00 -2.14884343e-01\n",
      "  -4.55201584e-01]\n",
      " [ 2.99037143e-03  5.83028034e-05 -1.97635449e-02 -4.18956638e-03\n",
      "  -8.87499400e-03]\n",
      " [-1.01367922e+00 -1.97635449e-02  6.69946702e+00  1.42018357e+00\n",
      "   3.00845470e+00]\n",
      " [-2.14884343e-01 -4.18956638e-03  1.42018357e+00  3.01056990e-01\n",
      "   6.37745946e-01]\n",
      " [-4.55201584e-01 -8.87499400e-03  3.00845470e+00  6.37745946e-01\n",
      "   1.35097309e+00]]\n"
     ]
    }
   ],
   "source": [
    "print(np.dot(a, a.T))"
   ]
  }
 ],
 "metadata": {
  "kernelspec": {
   "display_name": "Python 3 (ipykernel)",
   "language": "python",
   "name": "python3"
  },
  "language_info": {
   "codemirror_mode": {
    "name": "ipython",
    "version": 3
   },
   "file_extension": ".py",
   "mimetype": "text/x-python",
   "name": "python",
   "nbconvert_exporter": "python",
   "pygments_lexer": "ipython3",
   "version": "3.9.1"
  },
  "toc": {
   "base_numbering": 1,
   "nav_menu": {},
   "number_sections": true,
   "sideBar": true,
   "skip_h1_title": true,
   "title_cell": "Table of Contents",
   "title_sidebar": "Contents",
   "toc_cell": false,
   "toc_position": {},
   "toc_section_display": true,
   "toc_window_display": false
  }
 },
 "nbformat": 4,
 "nbformat_minor": 5
}
