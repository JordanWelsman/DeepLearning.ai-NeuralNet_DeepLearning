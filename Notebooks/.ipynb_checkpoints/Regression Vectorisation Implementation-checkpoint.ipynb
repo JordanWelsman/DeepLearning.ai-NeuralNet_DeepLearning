{
 "cells": [
  {
   "cell_type": "markdown",
   "id": "5a6bd314",
   "metadata": {},
   "source": [
    "# Vectorisation in the Logistic Regression Algorithm\n",
    "Vectorisation is the removal of 'for' loops in algorithm code which increases the speed at which the code can run due to inefficiencies in the loops' logic."
   ]
  },
  {
   "cell_type": "markdown",
   "id": "3479d25c",
   "metadata": {},
   "source": [
    "## Array Initialisation"
   ]
  },
  {
   "cell_type": "code",
   "execution_count": 6,
   "id": "4d93c848",
   "metadata": {},
   "outputs": [],
   "source": [
    "# Module imports\n",
    "import numpy as np\n",
    "import time"
   ]
  },
  {
   "cell_type": "code",
   "execution_count": 5,
   "id": "f4400fa8",
   "metadata": {},
   "outputs": [
    {
     "name": "stdout",
     "output_type": "stream",
     "text": [
      "[1 2 3 4]\n"
     ]
    }
   ],
   "source": [
    "a = np.array([1,2,3,4])\n",
    "print (a)"
   ]
  },
  {
   "cell_type": "markdown",
   "id": "c8b426af",
   "metadata": {},
   "source": [
    "## Without using Vectorisation"
   ]
  },
  {
   "cell_type": "code",
   "execution_count": 29,
   "id": "29d812f6",
   "metadata": {},
   "outputs": [
    {
     "name": "stdout",
     "output_type": "stream",
     "text": [
      "c = 249796.97907020326\n",
      "For loop version: 929.2960166931152ms\n"
     ]
    }
   ],
   "source": [
    "# Variable initialisation\n",
    "c = 0\n",
    "\n",
    "tic = time.time() # Start timer\n",
    "\n",
    "for i in range(1000000): # Using 'for' loop instead of vectorisation\n",
    "    c += a[i] * b[i]\n",
    "\n",
    "toc = time.time() # End timer\n",
    "ltime = 1000 * (toc-tic)\n",
    "\n",
    "print(\"c =\", c)\n",
    "print(\"For loop version:\", str(ltime) + \"ms\") # Print total time taken"
   ]
  },
  {
   "cell_type": "markdown",
   "id": "3fa64ee7",
   "metadata": {},
   "source": [
    "## With using Vectorisation"
   ]
  },
  {
   "cell_type": "code",
   "execution_count": 30,
   "id": "69eea80e",
   "metadata": {},
   "outputs": [
    {
     "name": "stdout",
     "output_type": "stream",
     "text": [
      "c = 249662.32800948684\n",
      "Vectorised version: 0.7030963897705078ms\n"
     ]
    }
   ],
   "source": [
    "# Variable initialisation\n",
    "a = np.random.rand(1000000)\n",
    "b = np.random.rand(1000000)\n",
    "\n",
    "tic = time.time() # Start timer\n",
    "\n",
    "c = np.dot(a, b) # Using vectorisation instead of 'for' loops\n",
    "\n",
    "toc = time.time() # End timer\n",
    "vtime = 1000 * (toc-tic)\n",
    "\n",
    "print(\"c =\", c)\n",
    "print(\"Vectorised version:\", str(vtime) + \"ms\") # Print total time taken"
   ]
  },
  {
   "cell_type": "markdown",
   "id": "fa61c128",
   "metadata": {},
   "source": [
    "## Comparison"
   ]
  },
  {
   "cell_type": "code",
   "execution_count": 37,
   "id": "13cb2ab4",
   "metadata": {},
   "outputs": [
    {
     "name": "stdout",
     "output_type": "stream",
     "text": [
      "The 'for' loop took 1322x longer than Vectorisation.\n"
     ]
    }
   ],
   "source": [
    "diff = (ltime / vtime)\n",
    "print(\"The 'for' loop took\", str(round(diff)) + \"x longer than Vectorisation.\")"
   ]
  },
  {
   "cell_type": "markdown",
   "id": "01317ccd",
   "metadata": {},
   "source": [
    "## Notes\n",
    "A lot of scalable deep-learning computation is done on GPUs, but all computation above was carried out on the CPU. Both are capable of Single Instruction Multiple Data (SIMD) operations, but GPUs are particularly good at them. This makes GPUs better for parallelisation when training deep-learning models. Vectorisation significantly speeds up computation. Whenever possible, you should avoid using explicit 'for' loops."
   ]
  }
 ],
 "metadata": {
  "kernelspec": {
   "display_name": "Python 3 (ipykernel)",
   "language": "python",
   "name": "python3"
  },
  "language_info": {
   "codemirror_mode": {
    "name": "ipython",
    "version": 3
   },
   "file_extension": ".py",
   "mimetype": "text/x-python",
   "name": "python",
   "nbconvert_exporter": "python",
   "pygments_lexer": "ipython3",
   "version": "3.9.1"
  },
  "toc": {
   "base_numbering": 1,
   "nav_menu": {},
   "number_sections": true,
   "sideBar": true,
   "skip_h1_title": true,
   "title_cell": "Table of Contents",
   "title_sidebar": "Contents",
   "toc_cell": false,
   "toc_position": {},
   "toc_section_display": true,
   "toc_window_display": true
  }
 },
 "nbformat": 4,
 "nbformat_minor": 5
}
